{
 "cells": [
  {
   "cell_type": "markdown",
   "metadata": {},
   "source": [
    "# Preparing the dataset for hippocampus segmentation\n",
    "\n",
    "In this notebook you will use the skills and methods that we have talked about during our EDA Lesson to prepare the hippocampus dataset using Python. Follow the Notebook, writing snippets of code where directed so using Task comments, similar to the one below, which expects you to put the proper imports in place. Write your code directly in the cell with TASK comment. Feel free to add cells as you see fit, but please make sure that code that performs that tasked activity sits in the same cell as the Task comment.\n"
   ]
  },
  {
   "cell_type": "code",
   "execution_count": 2,
   "metadata": {},
   "outputs": [
    {
     "name": "stdout",
     "output_type": "stream",
     "text": [
      "Collecting nibabel\n",
      "  Downloading nibabel-3.2.1-py3-none-any.whl (3.3 MB)\n",
      "\u001b[K     |████████████████████████████████| 3.3 MB 377 kB/s eta 0:00:01\n",
      "\u001b[?25hRequirement already satisfied: packaging>=14.3 in /home/aqumar/Desktop/hippocampal_volume_segmentation/venv/lib/python3.6/site-packages (from nibabel) (21.0)\n",
      "Requirement already satisfied: numpy>=1.14 in /home/aqumar/Desktop/hippocampal_volume_segmentation/venv/lib/python3.6/site-packages (from nibabel) (1.19.5)\n",
      "Requirement already satisfied: pyparsing>=2.0.2 in /home/aqumar/Desktop/hippocampal_volume_segmentation/venv/lib/python3.6/site-packages (from packaging>=14.3->nibabel) (2.4.7)\n",
      "Installing collected packages: nibabel\n",
      "Successfully installed nibabel-3.2.1\n"
     ]
    }
   ],
   "source": [
    "!pip install nibabel"
   ]
  },
  {
   "cell_type": "code",
   "execution_count": 3,
   "metadata": {},
   "outputs": [],
   "source": [
    "# TASK: Import the following libraries that we will use: nibabel, matplotlib, numpy\n",
    "\n",
    "import nibabel as nib\n",
    "import matplotlib.pyplot as plt\n",
    "import numpy"
   ]
  },
  {
   "cell_type": "code",
   "execution_count": 4,
   "metadata": {},
   "outputs": [],
   "source": [
    "import os"
   ]
  },
  {
   "cell_type": "markdown",
   "metadata": {},
   "source": [
    "It will help your understanding of the data a lot if you were able to use a tool that allows you to view NIFTI volumes, like [3D Slicer](https://www.slicer.org/). I will refer to Slicer throughout this Notebook and will be pasting some images showing what your output might look like."
   ]
  },
  {
   "cell_type": "markdown",
   "metadata": {},
   "source": [
    "## Loading NIFTI images using NiBabel\n",
    "\n",
    "NiBabel is a python library for working with neuro-imaging formats (including NIFTI) that we have used in some of the exercises throughout the course. Our volumes and labels are in NIFTI format, so we will use nibabel to load and inspect them.\n",
    "\n",
    "NiBabel documentation could be found here: https://nipy.org/nibabel/\n",
    "\n",
    "Our dataset sits in two directories - *images* and *labels*. Each image is represented by a single file (we are fortunate to have our data converted to NIFTI) and has a corresponding label file which is named the same as the image file.\n",
    "\n",
    "Note that our dataset is \"dirty\". There are a few images and labels that are not quite right. They should be quite obvious to notice, though. The dataset contains an equal amount of \"correct\" volumes and corresponding labels, and you don't need to alter values of any samples in order to get the clean dataset."
   ]
  },
  {
   "cell_type": "code",
   "execution_count": 5,
   "metadata": {},
   "outputs": [],
   "source": [
    "# TASK: Your data sits in directory /data/TrainingSet.\n",
    "# Load an image and a segmentation mask into variables called image and label\n",
    "data_dir = '../data/TrainingSet'\n",
    "training_images = os.path.join(data_dir, 'images')\n",
    "training_labels =  os.path.join(data_dir, 'labels')\n",
    "\n",
    "\n",
    "images = os.listdir(training_images)\n",
    "labels = os.listdir(training_labels)"
   ]
  },
  {
   "cell_type": "code",
   "execution_count": 6,
   "metadata": {},
   "outputs": [
    {
     "name": "stdout",
     "output_type": "stream",
     "text": [
      "image shape for hippocampus_184.nii.gz is:: (37, 51, 33)\n",
      "image shape for hippocampus_253.nii.gz is:: (34, 51, 31)\n",
      "image shape for hippocampus_042.nii.gz is:: (37, 52, 34)\n",
      "image shape for hippocampus_308.nii.gz is:: (38, 48, 40)\n",
      "image shape for hippocampus_065.nii.gz is:: (39, 52, 37)\n",
      "image shape for hippocampus_150.nii.gz is:: (37, 49, 34)\n",
      "image shape for hippocampus_320.nii.gz is:: (33, 47, 34)\n",
      "image shape for hippocampus_025.nii.gz is:: (35, 48, 35)\n",
      "image shape for hippocampus_289.nii.gz is:: (35, 49, 36)\n",
      "image shape for hippocampus_244.nii.gz is:: (38, 53, 30)\n",
      "image shape for hippocampus_354.nii.gz is:: (36, 50, 32)\n",
      "image shape for hippocampus_329.nii.gz is:: (34, 53, 32)\n",
      "image shape for hippocampus_162.nii.gz is:: (38, 51, 37)\n",
      "image shape for hippocampus_114.nii.gz is:: (38, 50, 39)\n",
      "image shape for hippocampus_049.nii.gz is:: (35, 51, 36)\n",
      "image shape for hippocampus_204.nii.gz is:: (36, 48, 39)\n",
      "image shape for hippocampus_337.nii.gz is:: (33, 44, 41)\n",
      "image shape for hippocampus_068.nii.gz is:: (36, 40, 43)\n",
      "image shape for hippocampus_023.nii.gz is:: (35, 51, 35)\n",
      "image shape for hippocampus_039.nii.gz is:: (34, 53, 34)\n",
      "image shape for hippocampus_133.nii.gz is:: (39, 41, 42)\n",
      "image shape for hippocampus_316.nii.gz is:: (37, 51, 33)\n",
      "image shape for hippocampus_105.nii.gz is:: (33, 47, 37)\n",
      "image shape for hippocampus_297.nii.gz is:: (34, 51, 30)\n",
      "image shape for hippocampus_142.nii.gz is:: (38, 43, 41)\n",
      "image shape for hippocampus_224.nii.gz is:: (37, 48, 37)\n",
      "image shape for hippocampus_378.nii.gz is:: (35, 52, 34)\n",
      "image shape for hippocampus_331.nii.gz is:: (35, 52, 33)\n",
      "image shape for hippocampus_177.nii.gz is:: (33, 44, 40)\n",
      "image shape for hippocampus_367.nii.gz is:: (36, 57, 37)\n",
      "image shape for hippocampus_314.nii.gz is:: (37, 53, 33)\n",
      "image shape for hippocampus_390.nii.gz is:: (38, 51, 33)\n",
      "image shape for hippocampus_048.nii.gz is:: (38, 52, 29)\n",
      "image shape for hippocampus_173.nii.gz is:: (35, 53, 32)\n",
      "image shape for hippocampus_008.nii.gz is:: (36, 48, 40)\n",
      "image shape for hippocampus_296.nii.gz is:: (35, 54, 35)\n",
      "image shape for hippocampus_355.nii.gz is:: (33, 47, 38)\n",
      "image shape for hippocampus_090.nii.gz is:: (37, 50, 40)\n",
      "image shape for hippocampus_011.nii.gz is:: (36, 50, 31)\n",
      "image shape for hippocampus_251.nii.gz is:: (36, 58, 28)\n",
      "image shape for hippocampus_034.nii.gz is:: (36, 49, 40)\n",
      "image shape for hippocampus_336.nii.gz is:: (34, 47, 43)\n",
      "image shape for hippocampus_216.nii.gz is:: (32, 49, 36)\n",
      "image shape for hippocampus_154.nii.gz is:: (35, 46, 42)\n",
      "image shape for hippocampus_058.nii.gz is:: (34, 53, 36)\n",
      "image shape for hippocampus_303.nii.gz is:: (35, 48, 38)\n",
      "image shape for hippocampus_136.nii.gz is:: (34, 49, 41)\n",
      "image shape for hippocampus_385.nii.gz is:: (35, 48, 40)\n",
      "image shape for hippocampus_327.nii.gz is:: (36, 54, 27)\n",
      "image shape for hippocampus_104.nii.gz is:: (35, 53, 39)\n",
      "image shape for hippocampus_372.nii.gz is:: (36, 50, 34)\n",
      "image shape for hippocampus_040.nii.gz is:: (36, 52, 37)\n",
      "image shape for hippocampus_146.nii.gz is:: (36, 51, 32)\n",
      "image shape for hippocampus_351.nii.gz is:: (35, 51, 35)\n",
      "image shape for hippocampus_221.nii.gz is:: (32, 48, 34)\n",
      "image shape for hippocampus_295.nii.gz is:: (35, 53, 36)\n",
      "image shape for hippocampus_127.nii.gz is:: (38, 55, 31)\n",
      "image shape for hippocampus_155.nii.gz is:: (34, 53, 37)\n",
      "image shape for hippocampus_259.nii.gz is:: (33, 51, 28)\n",
      "image shape for hippocampus_070.nii.gz is:: (37, 50, 38)\n",
      "image shape for hippocampus_006.nii.gz is:: (35, 52, 34)\n",
      "image shape for hippocampus_279.nii.gz is:: (34, 50, 32)\n",
      "image shape for hippocampus_171.nii.gz is:: (35, 56, 28)\n",
      "image shape for hippocampus_300.nii.gz is:: (34, 53, 35)\n",
      "image shape for hippocampus_197.nii.gz is:: (38, 51, 31)\n",
      "image shape for hippocampus_242.nii.gz is:: (38, 52, 34)\n",
      "image shape for hippocampus_387.nii.gz is:: (33, 51, 32)\n",
      "image shape for hippocampus_141.nii.gz is:: (33, 44, 42)\n",
      "image shape for hippocampus_252.nii.gz is:: (37, 55, 26)\n",
      "image shape for hippocampus_053.nii.gz is:: (37, 51, 35)\n",
      "image shape for hippocampus_380.nii.gz is:: (35, 46, 42)\n",
      "image shape for hippocampus_249.nii.gz is:: (32, 52, 34)\n",
      "image shape for hippocampus_190.nii.gz is:: (37, 52, 30)\n",
      "image shape for hippocampus_319.nii.gz is:: (33, 48, 34)\n",
      "image shape for hippocampus_227.nii.gz is:: (36, 47, 36)\n",
      "image shape for hippocampus_074.nii.gz is:: (37, 47, 42)\n",
      "image shape for hippocampus_338.nii.gz is:: (37, 43, 43)\n",
      "image shape for hippocampus_094.nii.gz is:: (38, 50, 38)\n",
      "image shape for hippocampus_087.nii.gz is:: (35, 55, 32)\n",
      "image shape for hippocampus_381.nii.gz is:: (33, 49, 37)\n",
      "image shape for hippocampus_007.nii.gz is:: (34, 47, 40)\n",
      "image shape for hippocampus_260.nii.gz is:: (35, 53, 29)\n",
      "image shape for hippocampus_238.nii.gz is:: (37, 56, 36)\n",
      "image shape for hippocampus_199.nii.gz is:: (37, 52, 26)\n",
      "image shape for hippocampus_145.nii.gz is:: (36, 53, 33)\n",
      "image shape for hippocampus_317.nii.gz is:: (33, 51, 34)\n",
      "image shape for hippocampus_001.nii.gz is:: (35, 51, 35)\n",
      "image shape for hippocampus_093.nii.gz is:: (34, 53, 37)\n",
      "image shape for hippocampus_037.nii.gz is:: (34, 51, 32)\n",
      "image shape for hippocampus_189.nii.gz is:: (35, 53, 30)\n",
      "image shape for hippocampus_010.nii.gz is:: (512, 512, 241)\n",
      "image shape for hippocampus_180.nii.gz is:: (37, 45, 36)\n",
      "image shape for hippocampus_374.nii.gz is:: (38, 48, 39)\n",
      "image shape for hippocampus_230.nii.gz is:: (34, 49, 37)\n",
      "image shape for hippocampus_051.nii.gz is:: (33, 54, 39)\n",
      "image shape for hippocampus_341.nii.gz is:: (34, 48, 35)\n",
      "image shape for hippocampus_193.nii.gz is:: (33, 50, 29)\n",
      "image shape for hippocampus_125.nii.gz is:: (43, 42, 39)\n",
      "image shape for hippocampus_343.nii.gz is:: (32, 45, 38)\n",
      "image shape for hippocampus_130.nii.gz is:: (35, 49, 40)\n",
      "image shape for hippocampus_174.nii.gz is:: (37, 55, 34)\n",
      "image shape for hippocampus_003.nii.gz is:: (34, 52, 35)\n",
      "image shape for hippocampus_036.nii.gz is:: (36, 47, 39)\n",
      "image shape for hippocampus_106.nii.gz is:: (34, 46, 38)\n",
      "image shape for hippocampus_083.nii.gz is:: (33, 52, 37)\n",
      "image shape for hippocampus_235.nii.gz is:: (37, 58, 35)\n",
      "image shape for hippocampus_304.nii.gz is:: (36, 48, 38)\n",
      "image shape for hippocampus_223.nii.gz is:: (35, 52, 37)\n",
      "image shape for hippocampus_276.nii.gz is:: (35, 50, 33)\n",
      "image shape for hippocampus_350.nii.gz is:: (35, 49, 34)\n",
      "image shape for hippocampus_325.nii.gz is:: (35, 51, 40)\n",
      "image shape for hippocampus_288.nii.gz is:: (38, 50, 42)\n",
      "image shape for hippocampus_014.nii.gz is:: (39, 50, 40)\n",
      "image shape for hippocampus_143.nii.gz is:: (32, 45, 41)\n",
      "image shape for hippocampus_361.nii.gz is:: (36, 50, 33)\n",
      "image shape for hippocampus_109.nii.gz is:: (36, 49, 36)\n",
      "image shape for hippocampus_243.nii.gz is:: (34, 53, 24)\n",
      "image shape for hippocampus_038.nii.gz is:: (37, 51, 35)\n",
      "image shape for hippocampus_328.nii.gz is:: (38, 54, 30)\n",
      "image shape for hippocampus_045.nii.gz is:: (36, 48, 37)\n",
      "image shape for hippocampus_287.nii.gz is:: (37, 50, 39)\n",
      "image shape for hippocampus_098.nii.gz is:: (37, 48, 34)\n",
      "image shape for hippocampus_015.nii.gz is:: (42, 51, 28)\n",
      "image shape for hippocampus_274.nii.gz is:: (35, 40, 40)\n",
      "image shape for hippocampus_232.nii.gz is:: (36, 44, 43)\n",
      "image shape for hippocampus_282.nii.gz is:: (37, 52, 32)\n",
      "image shape for hippocampus_026.nii.gz is:: (36, 50, 36)\n",
      "image shape for hippocampus_294.nii.gz is:: (35, 44, 44)\n",
      "image shape for hippocampus_033.nii.gz is:: (33, 48, 38)\n",
      "image shape for hippocampus_311.nii.gz is:: (37, 49, 37)\n",
      "image shape for hippocampus_097.nii.gz is:: (37, 48, 34)\n",
      "image shape for hippocampus_219.nii.gz is:: (37, 45, 39)\n",
      "image shape for hippocampus_334.nii.gz is:: (34, 47, 36)\n",
      "image shape for hippocampus_299.nii.gz is:: (32, 54, 34)\n",
      "image shape for hippocampus_345.nii.gz is:: (32, 49, 30)\n",
      "image shape for hippocampus_157.nii.gz is:: (36, 51, 35)\n",
      "image shape for hippocampus_156.nii.gz is:: (36, 52, 36)\n",
      "image shape for hippocampus_363.nii.gz is:: (38, 52, 35)\n",
      "image shape for hippocampus_265.nii.gz is:: (31, 54, 34)\n",
      "image shape for hippocampus_160.nii.gz is:: (34, 51, 26)\n",
      "image shape for hippocampus_144.nii.gz is:: (34, 45, 43)\n",
      "image shape for hippocampus_095.nii.gz is:: (34, 49, 39)\n",
      "image shape for hippocampus_096.nii.gz is:: (34, 47, 39)\n",
      "image shape for hippocampus_301.nii.gz is:: (31, 50, 36)\n",
      "image shape for hippocampus_181.nii.gz is:: (33, 49, 40)\n",
      "image shape for hippocampus_321.nii.gz is:: (34, 46, 34)\n",
      "image shape for hippocampus_060.nii.gz is:: (39, 52, 31)\n",
      "image shape for hippocampus_124.nii.gz is:: (35, 55, 41)\n",
      "image shape for hippocampus_225.nii.gz is:: (33, 53, 26)\n",
      "image shape for hippocampus_118.nii.gz is:: (37, 52, 33)\n",
      "image shape for hippocampus_231.nii.gz is:: (33, 47, 42)\n"
     ]
    },
    {
     "name": "stdout",
     "output_type": "stream",
     "text": [
      "image shape for hippocampus_236.nii.gz is:: (37, 57, 35)\n",
      "image shape for hippocampus_233.nii.gz is:: (33, 51, 37)\n",
      "image shape for hippocampus_228.nii.gz is:: (37, 48, 36)\n",
      "image shape for hippocampus_393.nii.gz is:: (36, 51, 31)\n",
      "image shape for hippocampus_044.nii.gz is:: (38, 48, 33)\n",
      "image shape for hippocampus_205.nii.gz is:: (32, 47, 32)\n",
      "image shape for hippocampus_261.nii.gz is:: (36, 58, 33)\n",
      "image shape for hippocampus_359.nii.gz is:: (35, 49, 35)\n",
      "image shape for hippocampus_322.nii.gz is:: (38, 47, 37)\n",
      "image shape for hippocampus_257.nii.gz is:: (34, 51, 33)\n",
      "image shape for hippocampus_318.nii.gz is:: (37, 51, 33)\n",
      "image shape for hippocampus_366.nii.gz is:: (37, 47, 34)\n",
      "image shape for hippocampus_360.nii.gz is:: (34, 49, 37)\n",
      "image shape for hippocampus_185.nii.gz is:: (35, 49, 33)\n",
      "image shape for hippocampus_035.nii.gz is:: (35, 47, 37)\n",
      "image shape for hippocampus_126.nii.gz is:: (39, 44, 43)\n",
      "image shape for hippocampus_075.nii.gz is:: (32, 47, 41)\n",
      "image shape for hippocampus_340.nii.gz is:: (35, 46, 38)\n",
      "image shape for hippocampus_268.nii.gz is:: (34, 51, 37)\n",
      "image shape for hippocampus_135.nii.gz is:: (32, 49, 38)\n",
      "image shape for hippocampus_165.nii.gz is:: (34, 49, 29)\n",
      "image shape for hippocampus_309.nii.gz is:: (34, 52, 38)\n",
      "image shape for hippocampus_188.nii.gz is:: (37, 54, 36)\n",
      "image shape for hippocampus_386.nii.gz is:: (37, 45, 40)\n",
      "image shape for hippocampus_091.nii.gz is:: (36, 51, 29)\n",
      "image shape for hippocampus_280.nii.gz is:: (37, 47, 32)\n",
      "image shape for hippocampus_310.nii.gz is:: (35, 52, 38)\n",
      "image shape for hippocampus_169.nii.gz is:: (36, 45, 39)\n",
      "image shape for hippocampus_084.nii.gz is:: (34, 52, 37)\n",
      "image shape for hippocampus_166.nii.gz is:: (36, 49, 31)\n",
      "image shape for hippocampus_368.nii.gz is:: (38, 55, 40)\n",
      "image shape for hippocampus_108.nii.gz is:: (36, 53, 37)\n",
      "image shape for hippocampus_269.nii.gz is:: (35, 49, 37)\n",
      "image shape for hippocampus_215.nii.gz is:: (35, 49, 33)\n",
      "image shape for hippocampus_176.nii.gz is:: (35, 50, 36)\n",
      "image shape for hippocampus_226.nii.gz is:: (32, 51, 28)\n",
      "image shape for hippocampus_332.nii.gz is:: (35, 52, 33)\n",
      "image shape for hippocampus_089.nii.gz is:: (34, 51, 38)\n",
      "image shape for hippocampus_149.nii.gz is:: (33, 49, 32)\n",
      "image shape for hippocampus_373.nii.gz is:: (34, 49, 35)\n",
      "image shape for hippocampus_234.nii.gz is:: (38, 49, 36)\n",
      "image shape for hippocampus_170.nii.gz is:: (34, 48, 40)\n",
      "image shape for hippocampus_123.nii.gz is:: (32, 53, 38)\n",
      "image shape for hippocampus_248.nii.gz is:: (36, 50, 38)\n",
      "image shape for hippocampus_107.nii.gz is:: (35, 55, 34)\n",
      "image shape for hippocampus_352.nii.gz is:: (38, 51, 35)\n",
      "image shape for hippocampus_101.nii.gz is:: (36, 52, 32)\n",
      "image shape for hippocampus_004.nii.gz is:: (36, 52, 38)\n",
      "image shape for hippocampus_264.nii.gz is:: (38, 51, 37)\n",
      "image shape for hippocampus_335.nii.gz is:: (32, 47, 41)\n",
      "image shape for hippocampus_229.nii.gz is:: (33, 50, 35)\n",
      "image shape for hippocampus_102.nii.gz is:: (36, 55, 32)\n",
      "image shape for hippocampus_212.nii.gz is:: (35, 56, 34)\n",
      "image shape for hippocampus_148.nii.gz is:: (34, 48, 32)\n",
      "image shape for hippocampus_050.nii.gz is:: (38, 49, 38)\n",
      "image shape for hippocampus_353.nii.gz is:: (32, 51, 31)\n",
      "image shape for hippocampus_333.nii.gz is:: (33, 46, 38)\n",
      "image shape for hippocampus_020.nii.gz is:: (36, 46, 43)\n",
      "image shape for hippocampus_220.nii.gz is:: (39, 45, 40)\n",
      "image shape for hippocampus_164.nii.gz is:: (41, 48, 47)\n",
      "image shape for hippocampus_210.nii.gz is:: (34, 48, 40)\n",
      "image shape for hippocampus_163.nii.gz is:: (36, 47, 44)\n",
      "image shape for hippocampus_203.nii.gz is:: (34, 49, 38)\n",
      "image shape for hippocampus_292.nii.gz is:: (38, 52, 33)\n",
      "image shape for hippocampus_302.nii.gz is:: (35, 46, 39)\n",
      "image shape for hippocampus_092.nii.gz is:: (38, 49, 28)\n",
      "image shape for hippocampus_383.nii.gz is:: (33, 55, 29)\n",
      "image shape for hippocampus_019.nii.gz is:: (36, 47, 41)\n",
      "image shape for hippocampus_250.nii.gz is:: (35, 51, 36)\n",
      "image shape for hippocampus_356.nii.gz is:: (36, 51, 37)\n",
      "image shape for hippocampus_305.nii.gz is:: (34, 49, 30)\n",
      "image shape for hippocampus_349.nii.gz is:: (34, 50, 34)\n",
      "image shape for hippocampus_172.nii.gz is:: (34, 56, 31)\n",
      "image shape for hippocampus_207.nii.gz is:: (35, 53, 33)\n",
      "image shape for hippocampus_281.nii.gz is:: (512, 512, 31)\n",
      "image shape for hippocampus_326.nii.gz is:: (36, 49, 41)\n",
      "image shape for hippocampus_138.nii.gz is:: (32, 46, 42)\n",
      "image shape for hippocampus_132.nii.gz is:: (36, 50, 40)\n",
      "image shape for hippocampus_263.nii.gz is:: (36, 51, 35)\n",
      "image shape for hippocampus_330.nii.gz is:: (35, 55, 33)\n",
      "image shape for hippocampus_178.nii.gz is:: (35, 44, 41)\n",
      "image shape for hippocampus_376.nii.gz is:: (35, 55, 37)\n",
      "image shape for hippocampus_394.nii.gz is:: (36, 52, 32)\n",
      "image shape for hippocampus_194.nii.gz is:: (35, 50, 30)\n",
      "image shape for hippocampus_057.nii.gz is:: (35, 51, 34)\n",
      "image shape for hippocampus_056.nii.gz is:: (41, 47, 42)\n",
      "image shape for hippocampus_024.nii.gz is:: (38, 52, 33)\n",
      "image shape for hippocampus_290.nii.gz is:: (35, 49, 40)\n",
      "image shape for hippocampus_017.nii.gz is:: (35, 48, 32)\n",
      "image shape for hippocampus_222.nii.gz is:: (34, 49, 36)\n",
      "image shape for hippocampus_052.nii.gz is:: (34, 52, 40)\n",
      "image shape for hippocampus_161.nii.gz is:: (35, 51, 36)\n",
      "image shape for hippocampus_277.nii.gz is:: (33, 59, 29)\n",
      "image shape for hippocampus_064.nii.gz is:: (35, 53, 35)\n",
      "image shape for hippocampus_046.nii.gz is:: (36, 49, 38)\n",
      "image shape for hippocampus_375.nii.gz is:: (32, 54, 34)\n",
      "image shape for hippocampus_152.nii.gz is:: (36, 53, 37)\n",
      "image shape for hippocampus_370.nii.gz is:: (35, 50, 36)\n",
      "image shape for hippocampus_099.nii.gz is:: (33, 52, 27)\n",
      "image shape for hippocampus_158.nii.gz is:: (38, 52, 36)\n",
      "image shape for hippocampus_077.nii.gz is:: (35, 47, 45)\n",
      "image shape for hippocampus_298.nii.gz is:: (37, 50, 33)\n",
      "image shape for hippocampus_358.nii.gz is:: (35, 50, 34)\n",
      "image shape for hippocampus_088.nii.gz is:: (40, 52, 35)\n",
      "image shape for hippocampus_041.nii.gz is:: (36, 51, 34)\n",
      "image shape for hippocampus_067.nii.gz is:: (36, 42, 41)\n",
      "image shape for hippocampus_245.nii.gz is:: (35, 48, 42)\n",
      "image shape for hippocampus_389.nii.gz is:: (34, 49, 32)\n",
      "image shape for hippocampus_286.nii.gz is:: (37, 45, 46)\n",
      "image shape for hippocampus_217.nii.gz is:: (38, 53, 27)\n",
      "image shape for hippocampus_195.nii.gz is:: (33, 53, 28)\n",
      "image shape for hippocampus_175.nii.gz is:: (33, 47, 35)\n"
     ]
    }
   ],
   "source": [
    "for img in images:\n",
    "    if '.gz' not in img:\n",
    "        continue\n",
    "    image = nib.load(os.path.join(training_images, img))\n",
    "    print(\"image shape for\", img, \"is::\", image.get_fdata().shape)"
   ]
  },
  {
   "cell_type": "code",
   "execution_count": 7,
   "metadata": {},
   "outputs": [],
   "source": [
    "#image shape for hippocampus_010.nii.gz is:: (512, 512, 241)\n",
    "#image shape for hippocampus_281.nii.gz is:: (512, 512, 31)\n",
    "\n",
    "#above are the two outliners"
   ]
  },
  {
   "cell_type": "code",
   "execution_count": 8,
   "metadata": {},
   "outputs": [
    {
     "name": "stdout",
     "output_type": "stream",
     "text": [
      "image label for hippocampus_184.nii.gz is:: (37, 51, 33)\n",
      "image label for hippocampus_253.nii.gz is:: (34, 51, 31)\n",
      "image label for hippocampus_042.nii.gz is:: (37, 52, 34)\n",
      "image label for hippocampus_308.nii.gz is:: (38, 48, 40)\n",
      "image label for hippocampus_065.nii.gz is:: (39, 52, 37)\n",
      "image label for hippocampus_150.nii.gz is:: (37, 49, 34)\n",
      "image label for hippocampus_320.nii.gz is:: (33, 47, 34)\n",
      "image label for hippocampus_025.nii.gz is:: (35, 48, 35)\n",
      "image label for hippocampus_289.nii.gz is:: (35, 49, 36)\n",
      "image label for hippocampus_244.nii.gz is:: (38, 53, 30)\n",
      "image label for hippocampus_354.nii.gz is:: (36, 50, 32)\n",
      "image label for hippocampus_329.nii.gz is:: (34, 53, 32)\n",
      "image label for hippocampus_162.nii.gz is:: (38, 51, 37)\n",
      "image label for hippocampus_114.nii.gz is:: (38, 50, 39)\n",
      "image label for hippocampus_049.nii.gz is:: (35, 51, 36)\n",
      "image label for hippocampus_204.nii.gz is:: (36, 48, 39)\n",
      "image label for hippocampus_337.nii.gz is:: (33, 44, 41)\n",
      "image label for hippocampus_068.nii.gz is:: (36, 40, 43)\n",
      "image label for hippocampus_023.nii.gz is:: (35, 51, 35)\n",
      "image label for hippocampus_039.nii.gz is:: (34, 53, 34)\n",
      "image label for hippocampus_133.nii.gz is:: (39, 41, 42)\n",
      "image label for hippocampus_316.nii.gz is:: (37, 51, 33)\n",
      "image label for hippocampus_105.nii.gz is:: (33, 47, 37)\n",
      "image label for hippocampus_297.nii.gz is:: (34, 51, 30)\n",
      "image label for hippocampus_142.nii.gz is:: (38, 43, 41)\n",
      "image label for hippocampus_224.nii.gz is:: (37, 48, 37)\n",
      "image label for hippocampus_378.nii.gz is:: (35, 52, 34)\n",
      "image label for hippocampus_331.nii.gz is:: (35, 52, 33)\n",
      "image label for hippocampus_177.nii.gz is:: (33, 44, 40)\n",
      "image label for hippocampus_367.nii.gz is:: (36, 57, 37)\n",
      "image label for hippocampus_314.nii.gz is:: (37, 53, 33)\n",
      "image label for hippocampus_390.nii.gz is:: (38, 51, 33)\n",
      "image label for hippocampus_048.nii.gz is:: (38, 52, 29)\n",
      "image label for hippocampus_173.nii.gz is:: (35, 53, 32)\n",
      "image label for hippocampus_008.nii.gz is:: (36, 48, 40)\n",
      "image label for hippocampus_296.nii.gz is:: (35, 54, 35)\n",
      "image label for hippocampus_355.nii.gz is:: (33, 47, 38)\n",
      "image label for hippocampus_090.nii.gz is:: (37, 50, 40)\n",
      "image label for hippocampus_011.nii.gz is:: (36, 50, 31)\n",
      "image label for hippocampus_251.nii.gz is:: (36, 58, 28)\n",
      "image label for hippocampus_034.nii.gz is:: (36, 49, 40)\n",
      "image label for hippocampus_336.nii.gz is:: (34, 47, 43)\n",
      "image label for hippocampus_216.nii.gz is:: (32, 49, 36)\n",
      "image label for hippocampus_154.nii.gz is:: (35, 46, 42)\n",
      "image label for hippocampus_058.nii.gz is:: (34, 53, 36)\n",
      "image label for hippocampus_303.nii.gz is:: (35, 48, 38)\n",
      "image label for hippocampus_136.nii.gz is:: (34, 49, 41)\n",
      "image label for hippocampus_385.nii.gz is:: (35, 48, 40)\n",
      "image label for hippocampus_327.nii.gz is:: (36, 54, 27)\n",
      "image label for hippocampus_104.nii.gz is:: (35, 53, 39)\n",
      "image label for hippocampus_372.nii.gz is:: (36, 50, 34)\n",
      "image label for hippocampus_040.nii.gz is:: (36, 52, 37)\n",
      "image label for hippocampus_146.nii.gz is:: (36, 51, 32)\n",
      "image label for hippocampus_351.nii.gz is:: (35, 51, 35)\n",
      "image label for hippocampus_221.nii.gz is:: (32, 48, 34)\n",
      "image label for hippocampus_295.nii.gz is:: (35, 53, 36)\n",
      "image label for hippocampus_127.nii.gz is:: (38, 55, 31)\n",
      "image label for hippocampus_155.nii.gz is:: (34, 53, 37)\n",
      "image label for hippocampus_259.nii.gz is:: (33, 51, 28)\n",
      "image label for hippocampus_070.nii.gz is:: (37, 50, 38)\n",
      "image label for hippocampus_006.nii.gz is:: (35, 52, 34)\n",
      "image label for hippocampus_279.nii.gz is:: (34, 50, 32)\n",
      "image label for hippocampus_171.nii.gz is:: (35, 56, 28)\n",
      "image label for hippocampus_300.nii.gz is:: (34, 53, 35)\n",
      "image label for hippocampus_197.nii.gz is:: (38, 51, 31)\n",
      "image label for hippocampus_242.nii.gz is:: (38, 52, 34)\n",
      "image label for hippocampus_387.nii.gz is:: (33, 51, 32)\n",
      "image label for hippocampus_141.nii.gz is:: (33, 44, 42)\n",
      "image label for hippocampus_252.nii.gz is:: (37, 55, 26)\n",
      "image label for hippocampus_053.nii.gz is:: (37, 51, 35)\n",
      "image label for hippocampus_380.nii.gz is:: (35, 46, 42)\n",
      "image label for hippocampus_249.nii.gz is:: (32, 52, 34)\n",
      "image label for hippocampus_190.nii.gz is:: (37, 52, 30)\n",
      "image label for hippocampus_319.nii.gz is:: (33, 48, 34)\n",
      "image label for hippocampus_227.nii.gz is:: (36, 47, 36)\n",
      "image label for hippocampus_074.nii.gz is:: (37, 47, 42)\n",
      "image label for hippocampus_338.nii.gz is:: (37, 43, 43)\n",
      "image label for hippocampus_094.nii.gz is:: (38, 50, 38)\n",
      "image label for hippocampus_087.nii.gz is:: (35, 55, 32)\n",
      "image label for hippocampus_381.nii.gz is:: (33, 49, 37)\n",
      "image label for hippocampus_007.nii.gz is:: (34, 47, 40)\n",
      "image label for hippocampus_260.nii.gz is:: (35, 53, 29)\n",
      "image label for hippocampus_238.nii.gz is:: (37, 56, 36)\n",
      "image label for hippocampus_199.nii.gz is:: (37, 52, 26)\n",
      "image label for hippocampus_145.nii.gz is:: (36, 53, 33)\n",
      "image label for hippocampus_317.nii.gz is:: (33, 51, 34)\n",
      "image label for hippocampus_001.nii.gz is:: (35, 51, 35)\n",
      "image label for hippocampus_093.nii.gz is:: (34, 53, 37)\n",
      "image label for hippocampus_037.nii.gz is:: (34, 51, 32)\n",
      "image label for hippocampus_189.nii.gz is:: (35, 53, 30)\n",
      "image label for hippocampus_010.nii.gz is:: (36, 50, 31)\n",
      "image label for hippocampus_180.nii.gz is:: (37, 45, 36)\n",
      "image label for hippocampus_374.nii.gz is:: (38, 48, 39)\n",
      "image label for hippocampus_230.nii.gz is:: (34, 49, 37)\n",
      "image label for hippocampus_051.nii.gz is:: (33, 54, 39)\n",
      "image label for hippocampus_341.nii.gz is:: (34, 48, 35)\n",
      "image label for hippocampus_193.nii.gz is:: (33, 50, 29)\n",
      "image label for hippocampus_125.nii.gz is:: (43, 42, 39)\n",
      "image label for hippocampus_343.nii.gz is:: (32, 45, 38)\n",
      "image label for hippocampus_130.nii.gz is:: (35, 49, 40)\n",
      "image label for hippocampus_174.nii.gz is:: (37, 55, 34)\n",
      "image label for hippocampus_003.nii.gz is:: (34, 52, 35)\n",
      "image label for hippocampus_036.nii.gz is:: (36, 47, 39)\n",
      "image label for hippocampus_106.nii.gz is:: (34, 46, 38)\n",
      "image label for hippocampus_083.nii.gz is:: (33, 52, 37)\n",
      "image label for hippocampus_235.nii.gz is:: (37, 58, 35)\n",
      "image label for hippocampus_304.nii.gz is:: (36, 48, 38)\n",
      "image label for hippocampus_223.nii.gz is:: (35, 52, 37)\n",
      "image label for hippocampus_276.nii.gz is:: (35, 50, 33)\n",
      "image label for hippocampus_350.nii.gz is:: (35, 49, 34)\n",
      "image label for hippocampus_325.nii.gz is:: (35, 51, 40)\n",
      "image label for hippocampus_288.nii.gz is:: (38, 50, 42)\n",
      "image label for hippocampus_014.nii.gz is:: (39, 50, 40)\n",
      "image label for hippocampus_143.nii.gz is:: (32, 45, 41)\n",
      "image label for hippocampus_361.nii.gz is:: (36, 50, 33)\n",
      "image label for hippocampus_109.nii.gz is:: (36, 49, 36)\n",
      "image label for hippocampus_243.nii.gz is:: (34, 53, 24)\n",
      "image label for hippocampus_038.nii.gz is:: (37, 51, 35)\n",
      "image label for hippocampus_328.nii.gz is:: (38, 54, 30)\n",
      "image label for hippocampus_045.nii.gz is:: (36, 48, 37)\n",
      "image label for hippocampus_287.nii.gz is:: (37, 50, 39)\n",
      "image label for hippocampus_098.nii.gz is:: (37, 48, 34)\n",
      "image label for hippocampus_015.nii.gz is:: (42, 51, 28)\n",
      "image label for hippocampus_274.nii.gz is:: (35, 40, 40)\n",
      "image label for hippocampus_232.nii.gz is:: (36, 44, 43)\n",
      "image label for hippocampus_282.nii.gz is:: (37, 52, 32)\n",
      "image label for hippocampus_026.nii.gz is:: (36, 50, 36)\n",
      "image label for hippocampus_294.nii.gz is:: (35, 44, 44)\n",
      "image label for hippocampus_033.nii.gz is:: (33, 48, 38)\n",
      "image label for hippocampus_311.nii.gz is:: (37, 49, 37)\n",
      "image label for hippocampus_097.nii.gz is:: (37, 48, 34)\n",
      "image label for hippocampus_219.nii.gz is:: (37, 45, 39)\n",
      "image label for hippocampus_334.nii.gz is:: (34, 47, 36)\n",
      "image label for hippocampus_299.nii.gz is:: (32, 54, 34)\n",
      "image label for hippocampus_345.nii.gz is:: (32, 49, 30)\n",
      "image label for hippocampus_157.nii.gz is:: (36, 51, 35)\n",
      "image label for hippocampus_156.nii.gz is:: (36, 52, 36)\n",
      "image label for hippocampus_363.nii.gz is:: (38, 52, 35)\n",
      "image label for hippocampus_265.nii.gz is:: (31, 54, 34)\n",
      "image label for hippocampus_160.nii.gz is:: (34, 51, 26)\n",
      "image label for hippocampus_144.nii.gz is:: (34, 45, 43)\n",
      "image label for hippocampus_095.nii.gz is:: (34, 49, 39)\n",
      "image label for hippocampus_096.nii.gz is:: (34, 47, 39)\n",
      "image label for hippocampus_301.nii.gz is:: (31, 50, 36)\n",
      "image label for hippocampus_181.nii.gz is:: (33, 49, 40)\n",
      "image label for hippocampus_321.nii.gz is:: (34, 46, 34)\n",
      "image label for hippocampus_060.nii.gz is:: (39, 52, 31)\n",
      "image label for hippocampus_124.nii.gz is:: (35, 55, 41)\n",
      "image label for hippocampus_225.nii.gz is:: (33, 53, 26)\n",
      "image label for hippocampus_231.nii.gz is:: (33, 47, 42)\n",
      "image label for hippocampus_236.nii.gz is:: (37, 57, 35)\n",
      "image label for hippocampus_233.nii.gz is:: (33, 51, 37)\n",
      "image label for hippocampus_228.nii.gz is:: (37, 48, 36)\n",
      "image label for hippocampus_393.nii.gz is:: (36, 51, 31)\n",
      "image label for hippocampus_044.nii.gz is:: (38, 48, 33)\n",
      "image label for hippocampus_205.nii.gz is:: (32, 47, 32)\n",
      "image label for hippocampus_261.nii.gz is:: (36, 58, 33)\n",
      "image label for hippocampus_359.nii.gz is:: (35, 49, 35)\n",
      "image label for hippocampus_322.nii.gz is:: (38, 47, 37)\n",
      "image label for hippocampus_257.nii.gz is:: (34, 51, 33)\n",
      "image label for hippocampus_318.nii.gz is:: (37, 51, 33)\n",
      "image label for hippocampus_366.nii.gz is:: (37, 47, 34)\n",
      "image label for hippocampus_360.nii.gz is:: (34, 49, 37)\n",
      "image label for hippocampus_185.nii.gz is:: (35, 49, 33)\n",
      "image label for hippocampus_035.nii.gz is:: (35, 47, 37)\n",
      "image label for hippocampus_126.nii.gz is:: (39, 44, 43)\n",
      "image label for hippocampus_075.nii.gz is:: (32, 47, 41)\n",
      "image label for hippocampus_340.nii.gz is:: (35, 46, 38)\n",
      "image label for hippocampus_268.nii.gz is:: (34, 51, 37)\n",
      "image label for hippocampus_135.nii.gz is:: (32, 49, 38)\n",
      "image label for hippocampus_165.nii.gz is:: (34, 49, 29)\n",
      "image label for hippocampus_309.nii.gz is:: (34, 52, 38)\n",
      "image label for hippocampus_188.nii.gz is:: (37, 54, 36)\n",
      "image label for hippocampus_386.nii.gz is:: (37, 45, 40)\n",
      "image label for hippocampus_091.nii.gz is:: (36, 51, 29)\n",
      "image label for hippocampus_280.nii.gz is:: (37, 47, 32)\n",
      "image label for hippocampus_310.nii.gz is:: (35, 52, 38)\n",
      "image label for hippocampus_169.nii.gz is:: (36, 45, 39)\n",
      "image label for hippocampus_084.nii.gz is:: (34, 52, 37)\n",
      "image label for hippocampus_166.nii.gz is:: (36, 49, 31)\n",
      "image label for hippocampus_368.nii.gz is:: (38, 55, 40)\n",
      "image label for hippocampus_108.nii.gz is:: (36, 53, 37)\n",
      "image label for hippocampus_269.nii.gz is:: (35, 49, 37)\n",
      "image label for hippocampus_215.nii.gz is:: (35, 49, 33)\n",
      "image label for hippocampus_176.nii.gz is:: (35, 50, 36)\n",
      "image label for hippocampus_226.nii.gz is:: (32, 51, 28)\n",
      "image label for hippocampus_332.nii.gz is:: (35, 52, 33)\n",
      "image label for hippocampus_089.nii.gz is:: (34, 51, 38)\n",
      "image label for hippocampus_149.nii.gz is:: (33, 49, 32)\n",
      "image label for hippocampus_373.nii.gz is:: (34, 49, 35)\n",
      "image label for hippocampus_234.nii.gz is:: (38, 49, 36)\n",
      "image label for hippocampus_170.nii.gz is:: (34, 48, 40)\n",
      "image label for hippocampus_123.nii.gz is:: (32, 53, 38)\n",
      "image label for hippocampus_248.nii.gz is:: (36, 50, 38)\n",
      "image label for hippocampus_107.nii.gz is:: (35, 55, 34)\n"
     ]
    },
    {
     "name": "stdout",
     "output_type": "stream",
     "text": [
      "image label for hippocampus_352.nii.gz is:: (38, 51, 35)\n",
      "image label for hippocampus_101.nii.gz is:: (36, 52, 32)\n",
      "image label for hippocampus_004.nii.gz is:: (36, 52, 38)\n",
      "image label for hippocampus_264.nii.gz is:: (38, 51, 37)\n",
      "image label for hippocampus_335.nii.gz is:: (32, 47, 41)\n",
      "image label for hippocampus_229.nii.gz is:: (33, 50, 35)\n",
      "image label for hippocampus_102.nii.gz is:: (36, 55, 32)\n",
      "image label for hippocampus_212.nii.gz is:: (35, 56, 34)\n",
      "image label for hippocampus_148.nii.gz is:: (34, 48, 32)\n",
      "image label for hippocampus_050.nii.gz is:: (38, 49, 38)\n",
      "image label for hippocampus_353.nii.gz is:: (32, 51, 31)\n",
      "image label for hippocampus_333.nii.gz is:: (33, 46, 38)\n",
      "image label for hippocampus_020.nii.gz is:: (36, 46, 43)\n",
      "image label for hippocampus_220.nii.gz is:: (39, 45, 40)\n",
      "image label for hippocampus_164.nii.gz is:: (41, 48, 47)\n",
      "image label for hippocampus_210.nii.gz is:: (34, 48, 40)\n",
      "image label for hippocampus_163.nii.gz is:: (36, 47, 44)\n",
      "image label for hippocampus_203.nii.gz is:: (34, 49, 38)\n",
      "image label for hippocampus_292.nii.gz is:: (38, 52, 33)\n",
      "image label for hippocampus_302.nii.gz is:: (35, 46, 39)\n",
      "image label for hippocampus_092.nii.gz is:: (38, 49, 28)\n",
      "image label for hippocampus_383.nii.gz is:: (33, 55, 29)\n",
      "image label for hippocampus_019.nii.gz is:: (36, 47, 41)\n",
      "image label for hippocampus_250.nii.gz is:: (35, 51, 36)\n",
      "image label for hippocampus_356.nii.gz is:: (36, 51, 37)\n",
      "image label for hippocampus_305.nii.gz is:: (34, 49, 30)\n",
      "image label for hippocampus_349.nii.gz is:: (34, 50, 34)\n",
      "image label for hippocampus_172.nii.gz is:: (34, 56, 31)\n",
      "image label for hippocampus_207.nii.gz is:: (35, 53, 33)\n",
      "image label for hippocampus_281.nii.gz is:: (512, 512, 94)\n",
      "image label for hippocampus_326.nii.gz is:: (36, 49, 41)\n",
      "image label for hippocampus_138.nii.gz is:: (32, 46, 42)\n",
      "image label for hippocampus_132.nii.gz is:: (36, 50, 40)\n",
      "image label for hippocampus_263.nii.gz is:: (36, 51, 35)\n",
      "image label for hippocampus_330.nii.gz is:: (35, 55, 33)\n",
      "image label for hippocampus_178.nii.gz is:: (35, 44, 41)\n",
      "image label for hippocampus_376.nii.gz is:: (35, 55, 37)\n",
      "image label for hippocampus_394.nii.gz is:: (36, 52, 32)\n",
      "image label for hippocampus_194.nii.gz is:: (35, 50, 30)\n",
      "image label for hippocampus_057.nii.gz is:: (35, 51, 34)\n",
      "image label for hippocampus_056.nii.gz is:: (41, 47, 42)\n",
      "image label for hippocampus_024.nii.gz is:: (38, 52, 33)\n",
      "image label for hippocampus_290.nii.gz is:: (35, 49, 40)\n",
      "image label for hippocampus_017.nii.gz is:: (35, 48, 32)\n",
      "image label for hippocampus_222.nii.gz is:: (34, 49, 36)\n",
      "image label for hippocampus_052.nii.gz is:: (34, 52, 40)\n",
      "image label for hippocampus_161.nii.gz is:: (35, 51, 36)\n",
      "image label for hippocampus_277.nii.gz is:: (33, 59, 29)\n",
      "image label for hippocampus_064.nii.gz is:: (35, 53, 35)\n",
      "image label for hippocampus_046.nii.gz is:: (36, 49, 38)\n",
      "image label for hippocampus_375.nii.gz is:: (32, 54, 34)\n",
      "image label for hippocampus_152.nii.gz is:: (36, 53, 37)\n",
      "image label for hippocampus_370.nii.gz is:: (35, 50, 36)\n",
      "image label for hippocampus_099.nii.gz is:: (33, 52, 27)\n",
      "image label for hippocampus_158.nii.gz is:: (38, 52, 36)\n",
      "image label for hippocampus_077.nii.gz is:: (35, 47, 45)\n",
      "image label for hippocampus_298.nii.gz is:: (37, 50, 33)\n",
      "image label for hippocampus_358.nii.gz is:: (35, 50, 34)\n",
      "image label for hippocampus_088.nii.gz is:: (40, 52, 35)\n",
      "image label for hippocampus_041.nii.gz is:: (36, 51, 34)\n",
      "image label for hippocampus_067.nii.gz is:: (36, 42, 41)\n",
      "image label for hippocampus_245.nii.gz is:: (35, 48, 42)\n",
      "image label for hippocampus_389.nii.gz is:: (34, 49, 32)\n",
      "image label for hippocampus_286.nii.gz is:: (37, 45, 46)\n",
      "image label for hippocampus_217.nii.gz is:: (38, 53, 27)\n",
      "image label for hippocampus_195.nii.gz is:: (33, 53, 28)\n",
      "image label for hippocampus_175.nii.gz is:: (33, 47, 35)\n"
     ]
    }
   ],
   "source": [
    "for lab in labels:\n",
    "    if '.gz' not in lab:\n",
    "        continue\n",
    "    label = nib.load(os.path.join(training_labels,lab))\n",
    "    print(\"image label for\", lab, \"is::\", label.get_fdata().shape)"
   ]
  },
  {
   "cell_type": "code",
   "execution_count": 9,
   "metadata": {},
   "outputs": [
    {
     "data": {
      "text/plain": [
       "array([[[ 286.57769775,   82.66664886,   55.11109924, ...,\n",
       "          666.84429932,  743.99981689,  710.9331665 ],\n",
       "        [ 214.93328857,   71.64442444,   38.57777023, ...,\n",
       "          683.37762451,  727.4664917 ,  766.04425049],\n",
       "        [ 143.28884888,   88.17775726,   44.08887863, ...,\n",
       "          727.4664917 ,  705.42205811,  743.99981689],\n",
       "        ...,\n",
       "        [ 319.64437866,  512.53320312,  683.37762451, ...,\n",
       "          264.53326416,  264.53326416,  303.11105347],\n",
       "        [ 446.39990234,  644.79986572,  738.4887085 , ...,\n",
       "          308.62216187,  352.71102905,  292.08880615],\n",
       "        [ 732.9776001 ,  677.86651611,  755.02203369, ...,\n",
       "          336.17770386,  281.06658936,  275.55548096]],\n",
       "\n",
       "       [[ 165.33329773,   66.13331604,  198.39994812, ...,\n",
       "          606.22210693,  650.31097412,  677.86651611],\n",
       "        [ 115.73330688,  209.42218018,  126.75552368, ...,\n",
       "          721.9553833 ,  727.4664917 ,  710.9331665 ],\n",
       "        [  38.57777023,   82.66664886,  132.26663208, ...,\n",
       "          683.37762451,  755.02203369,  738.4887085 ],\n",
       "        ...,\n",
       "        [ 413.33325195,  655.82208252,  710.9331665 , ...,\n",
       "          231.46661377,  297.59994507,  391.28878784],\n",
       "        [ 639.28875732,  666.84429932,  683.37762451, ...,\n",
       "          303.11105347,  391.28878784,  308.62216187],\n",
       "        [ 760.53314209,  655.82208252,  721.9553833 , ...,\n",
       "          325.15548706,  281.06658936,  236.97772217]],\n",
       "\n",
       "       [[  49.59998703,  264.53326416,  391.28878784, ...,\n",
       "          595.19989014,  666.84429932,  655.82208252],\n",
       "        [ 176.35551453,  374.75546265,  264.53326416, ...,\n",
       "          655.82208252,  694.39984131,  716.4442749 ],\n",
       "        [ 198.39994812,  308.62216187,  181.86662292, ...,\n",
       "          661.33319092,  699.91094971,  677.86651611],\n",
       "        ...,\n",
       "        [ 661.33319092,  749.51092529,  766.04425049, ...,\n",
       "          247.99993896,  451.91101074,  457.42211914],\n",
       "        [ 721.9553833 ,  721.9553833 ,  699.91094971, ...,\n",
       "          451.91101074,  446.39990234,  314.13327026],\n",
       "        [ 650.31097412,  661.33319092,  683.37762451, ...,\n",
       "          457.42211914,  297.59994507,  275.55548096]],\n",
       "\n",
       "       ...,\n",
       "\n",
       "       [[ 462.93322754,  407.82211304,  424.35546875, ...,\n",
       "          551.11096191,  743.99981689,  716.4442749 ],\n",
       "        [ 484.97766113,  484.97766113,  451.91101074, ...,\n",
       "          699.91094971,  688.88873291,  644.79986572],\n",
       "        [ 562.13317871,  562.13317871,  501.51098633, ...,\n",
       "          721.9553833 ,  650.31097412,  595.19989014],\n",
       "        ...,\n",
       "        [  93.68886566,  540.08874512, 1328.17749023, ...,\n",
       "          666.84429932,  672.35540771,  600.71099854],\n",
       "        [  71.64442444, 1041.59973145, 1697.421875  , ...,\n",
       "          655.82208252,  661.33319092,  573.15539551],\n",
       "        [ 165.33329773, 1460.4440918 , 1719.46630859, ...,\n",
       "          650.31097412,  633.77764893,  589.68878174]],\n",
       "\n",
       "       [[ 457.42211914,  374.75546265,  363.73324585, ...,\n",
       "          457.42211914,  738.4887085 ,  644.79986572],\n",
       "        [ 495.99987793,  490.48876953,  413.33325195, ...,\n",
       "          688.88873291,  710.9331665 ,  672.35540771],\n",
       "        [ 523.55541992,  595.19989014,  457.42211914, ...,\n",
       "          699.91094971,  666.84429932,  677.86651611],\n",
       "        ...,\n",
       "        [ 121.24441528,  556.62207031, 1559.64404297, ...,\n",
       "          611.73321533,  512.53320312,  396.79989624],\n",
       "        [ 137.77774048,  953.42199707, 1471.46630859, ...,\n",
       "          578.66650391,  484.97766113,  451.91101074],\n",
       "        [  93.68886566,  975.46643066, 1063.64416504, ...,\n",
       "          523.55541992,  413.33325195,  413.33325195]],\n",
       "\n",
       "       [[ 562.13317871,  479.46655273,  407.82211304, ...,\n",
       "          374.75546265,  666.84429932,  699.91094971],\n",
       "        [ 551.11096191,  556.62207031,  341.68881226, ...,\n",
       "          650.31097412,  699.91094971,  688.88873291],\n",
       "        [ 534.57763672,  545.59985352,  369.24435425, ...,\n",
       "          710.9331665 ,  677.86651611,  694.39984131],\n",
       "        ...,\n",
       "        [  66.13331604,  457.42211914,  804.62200928, ...,\n",
       "          418.84436035,  308.62216187,  303.11105347],\n",
       "        [  49.59998703,  512.53320312,  633.77764893, ...,\n",
       "          374.75546265,  347.19992065,  347.19992065],\n",
       "        [  60.62220764,  451.91101074,  446.39990234, ...,\n",
       "          319.64437866,  270.04437256,  247.99993896]]])"
      ]
     },
     "execution_count": 9,
     "metadata": {},
     "output_type": "execute_result"
    }
   ],
   "source": [
    "#check for the last image\n",
    "image.get_fdata()"
   ]
  },
  {
   "cell_type": "code",
   "execution_count": 10,
   "metadata": {},
   "outputs": [
    {
     "data": {
      "text/plain": [
       "array([[[0., 0., 0., ..., 0., 0., 0.],\n",
       "        [0., 0., 0., ..., 0., 0., 0.],\n",
       "        [0., 0., 0., ..., 0., 0., 0.],\n",
       "        ...,\n",
       "        [0., 0., 0., ..., 0., 0., 0.],\n",
       "        [0., 0., 0., ..., 0., 0., 0.],\n",
       "        [0., 0., 0., ..., 0., 0., 0.]],\n",
       "\n",
       "       [[0., 0., 0., ..., 0., 0., 0.],\n",
       "        [0., 0., 0., ..., 0., 0., 0.],\n",
       "        [0., 0., 0., ..., 0., 0., 0.],\n",
       "        ...,\n",
       "        [0., 0., 0., ..., 0., 0., 0.],\n",
       "        [0., 0., 0., ..., 0., 0., 0.],\n",
       "        [0., 0., 0., ..., 0., 0., 0.]],\n",
       "\n",
       "       [[0., 0., 0., ..., 0., 0., 0.],\n",
       "        [0., 0., 0., ..., 0., 0., 0.],\n",
       "        [0., 0., 0., ..., 0., 0., 0.],\n",
       "        ...,\n",
       "        [0., 0., 0., ..., 0., 0., 0.],\n",
       "        [0., 0., 0., ..., 0., 0., 0.],\n",
       "        [0., 0., 0., ..., 0., 0., 0.]],\n",
       "\n",
       "       ...,\n",
       "\n",
       "       [[0., 0., 0., ..., 0., 0., 0.],\n",
       "        [0., 0., 0., ..., 0., 0., 0.],\n",
       "        [0., 0., 0., ..., 0., 0., 0.],\n",
       "        ...,\n",
       "        [0., 0., 0., ..., 0., 0., 0.],\n",
       "        [0., 0., 0., ..., 0., 0., 0.],\n",
       "        [0., 0., 0., ..., 0., 0., 0.]],\n",
       "\n",
       "       [[0., 0., 0., ..., 0., 0., 0.],\n",
       "        [0., 0., 0., ..., 0., 0., 0.],\n",
       "        [0., 0., 0., ..., 0., 0., 0.],\n",
       "        ...,\n",
       "        [0., 0., 0., ..., 0., 0., 0.],\n",
       "        [0., 0., 0., ..., 0., 0., 0.],\n",
       "        [0., 0., 0., ..., 0., 0., 0.]],\n",
       "\n",
       "       [[0., 0., 0., ..., 0., 0., 0.],\n",
       "        [0., 0., 0., ..., 0., 0., 0.],\n",
       "        [0., 0., 0., ..., 0., 0., 0.],\n",
       "        ...,\n",
       "        [0., 0., 0., ..., 0., 0., 0.],\n",
       "        [0., 0., 0., ..., 0., 0., 0.],\n",
       "        [0., 0., 0., ..., 0., 0., 0.]]])"
      ]
     },
     "execution_count": 10,
     "metadata": {},
     "output_type": "execute_result"
    }
   ],
   "source": [
    "# check for the last label\n",
    "\n",
    "label.get_fdata()"
   ]
  },
  {
   "cell_type": "code",
   "execution_count": 11,
   "metadata": {},
   "outputs": [
    {
     "data": {
      "text/plain": [
       "263"
      ]
     },
     "execution_count": 11,
     "metadata": {},
     "output_type": "execute_result"
    }
   ],
   "source": [
    "len(images)"
   ]
  },
  {
   "cell_type": "code",
   "execution_count": 12,
   "metadata": {},
   "outputs": [
    {
     "data": {
      "text/plain": [
       "262"
      ]
     },
     "execution_count": 12,
     "metadata": {},
     "output_type": "execute_result"
    }
   ],
   "source": [
    "len(labels)"
   ]
  },
  {
   "cell_type": "code",
   "execution_count": 13,
   "metadata": {},
   "outputs": [
    {
     "data": {
      "text/plain": [
       "<matplotlib.image.AxesImage at 0x7fb459c3be10>"
      ]
     },
     "execution_count": 13,
     "metadata": {},
     "output_type": "execute_result"
    },
    {
     "data": {
      "image/png": "[encoded data removed]",
      "text/plain": [
       "<Figure size 432x288 with 6 Axes>"
      ]
     },
     "metadata": {
      "needs_background": "light"
     },
     "output_type": "display_data"
    }
   ],
   "source": [
    "#image shape for hippocampus_010.nii.gz is:: (512, 512, 241)\n",
    "#image shape for hippocampus_281.nii.gz is:: (512, 512, 31)\n",
    "\n",
    "#plot the outliners\n",
    "\n",
    "first_outliner_path = os.path.join(training_images, 'hippocampus_010.nii.gz')\n",
    "first_outliner_image = nib.load(first_outliner_path).get_fdata()\n",
    "\n",
    "\n",
    "second_outliner_path = os.path.join(training_images, 'hippocampus_281.nii.gz')\n",
    "second_outliner_image = nib.load(second_outliner_path).get_fdata()\n",
    "\n",
    "figure, axis = plt.subplots(2,3)\n",
    "\n",
    "axis[0,0].imshow(first_outliner_image[:,:,10], cmap='gray')\n",
    "axis[0,1].imshow(first_outliner_image[:,10,:], cmap='gray')\n",
    "axis[0,2].imshow(first_outliner_image[10,:,:], cmap='gray')\n",
    "\n",
    "axis[1,0].imshow(second_outliner_image[:,:,10], cmap='gray')\n",
    "axis[1,1].imshow(second_outliner_image[:,10,:], cmap='gray')\n",
    "axis[1,2].imshow(second_outliner_image[10,:,:], cmap='gray')"
   ]
  },
  {
   "cell_type": "code",
   "execution_count": null,
   "metadata": {},
   "outputs": [],
   "source": []
  },
  {
   "cell_type": "code",
   "execution_count": null,
   "metadata": {},
   "outputs": [],
   "source": []
  },
  {
   "cell_type": "code",
   "execution_count": null,
   "metadata": {},
   "outputs": [],
   "source": []
  },
  {
   "cell_type": "code",
   "execution_count": 14,
   "metadata": {},
   "outputs": [],
   "source": [
    "# Nibabel can present your image data as a Numpy array by calling the method get_fdata()\n",
    "# The array will contain a multi-dimensional Numpy array with numerical values representing voxel intensities. \n",
    "# In our case, images and labels are 3-dimensional, so get_fdata will return a 3-dimensional array. You can verify this\n",
    "# by accessing the .shape attribute. What are the dimensions of the input arrays?\n",
    "\n",
    "# TASK: using matplotlib, visualize a few slices from the dataset, along with their labels. \n",
    "# You can adjust plot sizes like so if you find them too small:\n",
    "# plt.rcParams[\"figure.figsize\"] = (10,10)"
   ]
  },
  {
   "cell_type": "markdown",
   "metadata": {},
   "source": [
    "Load volume into 3D Slicer to validate that your visualization is correct and get a feel for the shape of structures.Try to get a visualization like the one below (hint: while Slicer documentation is not particularly great, there are plenty of YouTube videos available! Just look it up on YouTube if you are not sure how to do something)\n",
    "\n",
    "![3D slicer](img/Slicer.png)"
   ]
  },
  {
   "cell_type": "code",
   "execution_count": 15,
   "metadata": {},
   "outputs": [],
   "source": [
    "# Randomly pick one image and corresponding label analyze"
   ]
  },
  {
   "cell_type": "code",
   "execution_count": 16,
   "metadata": {},
   "outputs": [
    {
     "data": {
      "text/plain": [
       "'hippocampus_184.nii.gz'"
      ]
     },
     "execution_count": 16,
     "metadata": {},
     "output_type": "execute_result"
    }
   ],
   "source": [
    "images[0]"
   ]
  },
  {
   "cell_type": "code",
   "execution_count": 17,
   "metadata": {},
   "outputs": [
    {
     "data": {
      "text/plain": [
       "'hippocampus_184.nii.gz'"
      ]
     },
     "execution_count": 17,
     "metadata": {},
     "output_type": "execute_result"
    }
   ],
   "source": [
    "labels[0]"
   ]
  },
  {
   "cell_type": "code",
   "execution_count": 18,
   "metadata": {},
   "outputs": [
    {
     "name": "stdout",
     "output_type": "stream",
     "text": [
      "(37, 51, 33)\n",
      "(37, 51, 33)\n"
     ]
    },
    {
     "data": {
      "text/plain": [
       "<matplotlib.image.AxesImage at 0x7fb459a0b438>"
      ]
     },
     "execution_count": 18,
     "metadata": {},
     "output_type": "execute_result"
    },
    {
     "data": {
      "image/png": "[encoded data removed]",
      "text/plain": [
       "<Figure size 1080x720 with 6 Axes>"
      ]
     },
     "metadata": {
      "needs_background": "light"
     },
     "output_type": "display_data"
    }
   ],
   "source": [
    "\n",
    "img = os.path.join(training_images, images[0])\n",
    "img_path = nib.load(img).get_fdata()\n",
    "\n",
    "img_shape = img_path.shape\n",
    "print(img_shape)\n",
    "\n",
    "label = os.path.join(training_labels, labels[0])\n",
    "label_path = nib.load(label).get_fdata()\n",
    "\n",
    "label_shape = label_path.shape\n",
    "print(label_shape)\n",
    "\n",
    "figure, axis = plt.subplots(2,3)\n",
    "\n",
    "figure.set_figwidth(15)\n",
    "figure.set_figheight(10)\n",
    "\n",
    "axis[0,0].imshow(img_path[:,:,18], cmap='gray')\n",
    "axis[0,0].set_title('Sagittal')\n",
    "axis[0,1].imshow(img_path[:,18,:], cmap='gray')\n",
    "axis[0,1].set_title('Coronal')\n",
    "axis[0,2].imshow(img_path[18,:,:], cmap='gray')\n",
    "axis[0,2].set_title('Axial')\n",
    "\n",
    "\n",
    "axis[1,0].imshow(label_path[:,:,18], cmap='gray')\n",
    "axis[1,1].imshow(label_path[:,18,:], cmap='gray')\n",
    "axis[1,2].imshow(label_path[18,:,:], cmap='gray')"
   ]
  },
  {
   "cell_type": "code",
   "execution_count": null,
   "metadata": {},
   "outputs": [],
   "source": []
  },
  {
   "cell_type": "code",
   "execution_count": null,
   "metadata": {},
   "outputs": [],
   "source": []
  },
  {
   "cell_type": "code",
   "execution_count": 19,
   "metadata": {},
   "outputs": [],
   "source": [
    "# Stand out suggestion: use one of the simple Volume Rendering algorithms that we've\n",
    "# implemented in one of our earlier lessons to visualize some of these volumes"
   ]
  },
  {
   "cell_type": "markdown",
   "metadata": {},
   "source": [
    "## Looking at single image data\n",
    "In this section we will look closer at the NIFTI representation of our volumes. In order to measure the physical volume of hippocampi, we need to understand the relationship between the sizes of our voxels and the physical world."
   ]
  },
  {
   "cell_type": "code",
   "execution_count": 20,
   "metadata": {
    "scrolled": true
   },
   "outputs": [],
   "source": [
    "# Nibabel supports many imaging formats, NIFTI being just one of them. I told you that our images \n",
    "# are in NIFTI, but you should confirm if this is indeed the format that we are dealing with\n",
    "# TASK: using .header_class attribute - what is the format of our images?"
   ]
  },
  {
   "cell_type": "markdown",
   "metadata": {},
   "source": [
    "Further down we will be inspecting .header attribute that provides access to NIFTI metadata. You can use this resource as a reference for various fields: https://brainder.org/2012/09/23/the-nifti-file-format/"
   ]
  },
  {
   "cell_type": "code",
   "execution_count": 21,
   "metadata": {},
   "outputs": [
    {
     "data": {
      "text/plain": [
       "nibabel.nifti1.Nifti1Header"
      ]
     },
     "execution_count": 21,
     "metadata": {},
     "output_type": "execute_result"
    }
   ],
   "source": [
    "nib.load(img).header_class"
   ]
  },
  {
   "cell_type": "code",
   "execution_count": 22,
   "metadata": {},
   "outputs": [
    {
     "data": {
      "text/plain": [
       "array(32, dtype=int16)"
      ]
     },
     "execution_count": 22,
     "metadata": {},
     "output_type": "execute_result"
    }
   ],
   "source": [
    "# TASK: How many bits per pixel are used?\n",
    "nib.load(img).header['bitpix']"
   ]
  },
  {
   "cell_type": "code",
   "execution_count": null,
   "metadata": {},
   "outputs": [],
   "source": []
  },
  {
   "cell_type": "code",
   "execution_count": 23,
   "metadata": {},
   "outputs": [
    {
     "data": {
      "text/plain": [
       "array(10, dtype=uint8)"
      ]
     },
     "execution_count": 23,
     "metadata": {},
     "output_type": "execute_result"
    }
   ],
   "source": [
    "# TASK: What are the units of measurement?\n",
    "nib.load(img).header['xyzt_units']"
   ]
  },
  {
   "cell_type": "code",
   "execution_count": 24,
   "metadata": {},
   "outputs": [
    {
     "data": {
      "text/plain": [
       "('mm', 'sec')"
      ]
     },
     "execution_count": 24,
     "metadata": {},
     "output_type": "execute_result"
    }
   ],
   "source": [
    "nib.load(img).header.get_xyzt_units()"
   ]
  },
  {
   "cell_type": "code",
   "execution_count": 25,
   "metadata": {},
   "outputs": [
    {
     "data": {
      "text/plain": [
       "array([1., 1., 1., 1., 1., 0., 0., 0.], dtype=float32)"
      ]
     },
     "execution_count": 25,
     "metadata": {},
     "output_type": "execute_result"
    }
   ],
   "source": [
    "# TASK: Do we have a regular grid? What are grid spacings?\n",
    "nib.load(img).header['pixdim']"
   ]
  },
  {
   "cell_type": "code",
   "execution_count": null,
   "metadata": {},
   "outputs": [],
   "source": [
    "# Yes, regular grid. \n",
    "# pixel spacing  - 1mm  \n",
    "# slice thickness - 1mm"
   ]
  },
  {
   "cell_type": "code",
   "execution_count": 26,
   "metadata": {},
   "outputs": [],
   "source": [
    "# TASK: What dimensions represent axial, sagittal, and coronal slices? How do you know?\n",
    "# By plotting the slices,\n",
    "# 0 axis is sagittal\n",
    "# 1 axis is coronal\n",
    "# 2 axis is axial"
   ]
  },
  {
   "cell_type": "code",
   "execution_count": 27,
   "metadata": {},
   "outputs": [],
   "source": [
    "# By now you should have enough information to decide what are dimensions of a single voxel\n",
    "# TASK: Compute the volume (in mm³) of a hippocampus using one of the labels you've loaded. \n",
    "# You should get a number between ~2200 and ~4500"
   ]
  },
  {
   "cell_type": "code",
   "execution_count": 28,
   "metadata": {},
   "outputs": [],
   "source": [
    "import numpy as np"
   ]
  },
  {
   "cell_type": "code",
   "execution_count": 29,
   "metadata": {},
   "outputs": [
    {
     "data": {
      "text/plain": [
       "3605"
      ]
     },
     "execution_count": 29,
     "metadata": {},
     "output_type": "execute_result"
    }
   ],
   "source": [
    "np.sum(label_path > 0)"
   ]
  },
  {
   "cell_type": "code",
   "execution_count": null,
   "metadata": {},
   "outputs": [],
   "source": []
  },
  {
   "cell_type": "markdown",
   "metadata": {},
   "source": [
    "## Plotting some charts"
   ]
  },
  {
   "cell_type": "code",
   "execution_count": 39,
   "metadata": {},
   "outputs": [],
   "source": [
    "# TASK: Plot a histogram of all volumes that we have in our dataset and see how \n",
    "# our dataset measures against a slice of a normal population represented by the chart below.\n",
    "\n",
    "vol_mapping = {}\n",
    "for lab in labels:\n",
    "    label_path = os.path.join(training_labels, lab)\n",
    "    label = nib.load(label_path).get_fdata()\n",
    "    vol_mapping[lab] = np.sum(label > 0)"
   ]
  },
  {
   "cell_type": "code",
   "execution_count": 41,
   "metadata": {},
   "outputs": [
    {
     "data": {
      "text/plain": [
       "(array([258.,   3.,   0.,   0.,   0.,   0.,   0.,   0.,   0.,   1.]),\n",
       " array([ 2382.,  4214.,  6046.,  7878.,  9710., 11542., 13374., 15206.,\n",
       "        17038., 18870., 20702.]),\n",
       " <BarContainer object of 10 artists>)"
      ]
     },
     "execution_count": 41,
     "metadata": {},
     "output_type": "execute_result"
    },
    {
     "data": {
      "image/png": "[encoded data removed]",
      "text/plain": [
       "<Figure size 432x288 with 1 Axes>"
      ]
     },
     "metadata": {
      "needs_background": "light"
     },
     "output_type": "display_data"
    }
   ],
   "source": [
    "plt.hist(vol_mapping.values())"
   ]
  },
  {
   "cell_type": "markdown",
   "metadata": {},
   "source": [
    "<img src=\"img/nomogram_fem_right.svg\" width=400 align=left>"
   ]
  },
  {
   "cell_type": "markdown",
   "metadata": {},
   "source": [
    "Do you see any outliers? Why do you think it's so (might be not immediately obvious, but it's always a good idea to inspect) outliers closer. If you haven't found the images that do not belong, the histogram may help you."
   ]
  },
  {
   "cell_type": "markdown",
   "metadata": {},
   "source": [
    "In the real world we would have precise information about the ages and conditions of our patients, and understanding how our dataset measures against population norm would be the integral part of clinical validation that we talked about in last lesson. Unfortunately, we do not have this information about this dataset, so we can only guess why it measures the way it is. If you would like to explore further, you can use the [calculator from HippoFit project](http://www.smanohar.com/biobank/calculator.html) to see how our dataset compares against different population slices"
   ]
  },
  {
   "cell_type": "markdown",
   "metadata": {},
   "source": [
    "Did you notice anything odd about the label files? We hope you did! The mask seems to have two classes, labeled with values `1` and `2` respectively. If you visualized sagittal or axial views, you might have gotten a good guess of what those are. Class 1 is the anterior segment of the hippocampus and class 2 is the posterior one. \n",
    "\n",
    "For the purpose of volume calculation we do not care about the distinction, however we will still train our network to differentiate between these two classes and the background"
   ]
  },
  {
   "cell_type": "code",
   "execution_count": 45,
   "metadata": {},
   "outputs": [
    {
     "data": {
      "text/plain": [
       "{'hippocampus_118.nii.gz'}"
      ]
     },
     "execution_count": 45,
     "metadata": {},
     "output_type": "execute_result"
    }
   ],
   "source": [
    "#missing label from training images and also an outlier.\n",
    "set(os.listdir(training_images)) - set(os.listdir(training_labels))"
   ]
  },
  {
   "cell_type": "code",
   "execution_count": 51,
   "metadata": {},
   "outputs": [],
   "source": [
    "#outliers\n",
    "outliers = ['hippocampus_010.nii.gz', 'hippocampus_281.nii.gz']"
   ]
  },
  {
   "cell_type": "code",
   "execution_count": 52,
   "metadata": {},
   "outputs": [],
   "source": [
    "final_outliers = outliners + ['hippocampus_118.nii.gz']"
   ]
  },
  {
   "cell_type": "code",
   "execution_count": 53,
   "metadata": {},
   "outputs": [
    {
     "data": {
      "text/plain": [
       "'../data/TrainingSet/images'"
      ]
     },
     "execution_count": 53,
     "metadata": {},
     "output_type": "execute_result"
    }
   ],
   "source": [
    "training_images"
   ]
  },
  {
   "cell_type": "code",
   "execution_count": 58,
   "metadata": {},
   "outputs": [],
   "source": [
    "# TASK: Copy the clean dataset to the output folder inside section1/out. You will use it in the next Section\n",
    "\n",
    "import shutil\n",
    "\n",
    "ids = os.listdir(training_images)\n",
    "\n",
    "for id_ in ids:\n",
    "    if id_ not in final_outliers:\n",
    "        shutil.copy(os.path.join(training_images, id_), os.path.join(\"out\", \"images\", id_))\n",
    "        shutil.copy(os.path.join(training_labels, id_), os.path.join(\"out\", \"labels\", id_))"
   ]
  },
  {
   "cell_type": "markdown",
   "metadata": {},
   "source": [
    "## Final remarks\n",
    "\n",
    "Congratulations! You have finished Section 1. \n",
    "\n",
    "In this section you have inspected a dataset of MRI scans and related segmentations, represented as NIFTI files. We have visualized some slices, and understood the layout of the data. We have inspected file headers to understand what how the image dimensions relate to the physical world and we have understood how to measure our volume. We have then inspected dataset for outliers, and have created a clean set that is ready for consumption by our ML algorithm. \n",
    "\n",
    "In the next section you will create training and testing pipelines for a UNet-based machine learning model, run and monitor the execution, and will produce test metrics. This will arm you with all you need to use the model in the clinical context and reason about its performance!"
   ]
  }
 ],
 "metadata": {
  "kernelspec": {
   "display_name": "Python 3",
   "language": "python",
   "name": "python3"
  },
  "language_info": {
   "codemirror_mode": {
    "name": "ipython",
    "version": 3
   },
   "file_extension": ".py",
   "mimetype": "text/x-python",
   "name": "python",
   "nbconvert_exporter": "python",
   "pygments_lexer": "ipython3",
   "version": "3.6.10"
  }
 },
 "nbformat": 4,
 "nbformat_minor": 2
}
